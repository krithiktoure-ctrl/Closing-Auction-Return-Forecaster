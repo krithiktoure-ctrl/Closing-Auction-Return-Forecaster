{
 "cells": [
  {
   "cell_type": "code",
   "execution_count": 4,
   "id": "15cdf64a",
   "metadata": {},
   "outputs": [
    {
     "name": "stdout",
     "output_type": "stream",
     "text": [
      "Reading: /Users/krithiktoure/Desktop/DS Project 1/data/train.csv\n",
      "Loaded df: (5237980, 17)\n",
      "After cleaning: (5237892, 17)\n",
      "Num features: 13\n",
      "FEATURES: ['seconds_in_bucket', 'sec_bucket_group', 'bid_ask_spread', 'mid_price', 'signed_imbalance', 'near_price_minus_ref', 'far_price_minus_ref', 'matched_size', 'imbalance_size', 'bid_size', 'ask_size', 'reference_price', 'wap']\n"
     ]
    },
    {
     "data": {
      "text/html": [
       "<div>\n",
       "<style scoped>\n",
       "    .dataframe tbody tr th:only-of-type {\n",
       "        vertical-align: middle;\n",
       "    }\n",
       "\n",
       "    .dataframe tbody tr th {\n",
       "        vertical-align: top;\n",
       "    }\n",
       "\n",
       "    .dataframe thead th {\n",
       "        text-align: right;\n",
       "    }\n",
       "</style>\n",
       "<table border=\"1\" class=\"dataframe\">\n",
       "  <thead>\n",
       "    <tr style=\"text-align: right;\">\n",
       "      <th></th>\n",
       "      <th>seconds_in_bucket</th>\n",
       "      <th>sec_bucket_group</th>\n",
       "      <th>bid_ask_spread</th>\n",
       "      <th>mid_price</th>\n",
       "      <th>signed_imbalance</th>\n",
       "      <th>near_price_minus_ref</th>\n",
       "      <th>far_price_minus_ref</th>\n",
       "      <th>matched_size</th>\n",
       "      <th>imbalance_size</th>\n",
       "      <th>bid_size</th>\n",
       "      <th>ask_size</th>\n",
       "      <th>reference_price</th>\n",
       "      <th>wap</th>\n",
       "      <th>target</th>\n",
       "    </tr>\n",
       "  </thead>\n",
       "  <tbody>\n",
       "    <tr>\n",
       "      <th>0</th>\n",
       "      <td>0</td>\n",
       "      <td>0</td>\n",
       "      <td>0.000214</td>\n",
       "      <td>0.999919</td>\n",
       "      <td>3180602.69</td>\n",
       "      <td>0.000077</td>\n",
       "      <td>0.000071</td>\n",
       "      <td>13380276.64</td>\n",
       "      <td>3180602.69</td>\n",
       "      <td>60651.50</td>\n",
       "      <td>8493.03</td>\n",
       "      <td>0.999812</td>\n",
       "      <td>1.000000</td>\n",
       "      <td>-3.029704</td>\n",
       "    </tr>\n",
       "    <tr>\n",
       "      <th>1</th>\n",
       "      <td>10</td>\n",
       "      <td>0</td>\n",
       "      <td>0.000214</td>\n",
       "      <td>0.999919</td>\n",
       "      <td>1299772.70</td>\n",
       "      <td>-0.000137</td>\n",
       "      <td>-0.000143</td>\n",
       "      <td>15261106.63</td>\n",
       "      <td>1299772.70</td>\n",
       "      <td>13996.50</td>\n",
       "      <td>23519.16</td>\n",
       "      <td>1.000026</td>\n",
       "      <td>0.999892</td>\n",
       "      <td>0.389814</td>\n",
       "    </tr>\n",
       "    <tr>\n",
       "      <th>2</th>\n",
       "      <td>20</td>\n",
       "      <td>0</td>\n",
       "      <td>0.000107</td>\n",
       "      <td>0.999866</td>\n",
       "      <td>1299772.70</td>\n",
       "      <td>-0.000030</td>\n",
       "      <td>-0.000036</td>\n",
       "      <td>15261106.63</td>\n",
       "      <td>1299772.70</td>\n",
       "      <td>4665.50</td>\n",
       "      <td>12131.60</td>\n",
       "      <td>0.999919</td>\n",
       "      <td>0.999842</td>\n",
       "      <td>4.220009</td>\n",
       "    </tr>\n",
       "    <tr>\n",
       "      <th>3</th>\n",
       "      <td>30</td>\n",
       "      <td>0</td>\n",
       "      <td>0.000107</td>\n",
       "      <td>1.000080</td>\n",
       "      <td>1299772.70</td>\n",
       "      <td>-0.000244</td>\n",
       "      <td>-0.000250</td>\n",
       "      <td>15261106.63</td>\n",
       "      <td>1299772.70</td>\n",
       "      <td>55998.00</td>\n",
       "      <td>46203.30</td>\n",
       "      <td>1.000133</td>\n",
       "      <td>1.000085</td>\n",
       "      <td>5.450249</td>\n",
       "    </tr>\n",
       "    <tr>\n",
       "      <th>4</th>\n",
       "      <td>40</td>\n",
       "      <td>0</td>\n",
       "      <td>0.000214</td>\n",
       "      <td>1.000348</td>\n",
       "      <td>1218204.43</td>\n",
       "      <td>-0.000566</td>\n",
       "      <td>-0.000572</td>\n",
       "      <td>15342674.90</td>\n",
       "      <td>1218204.43</td>\n",
       "      <td>14655.95</td>\n",
       "      <td>26610.45</td>\n",
       "      <td>1.000455</td>\n",
       "      <td>1.000317</td>\n",
       "      <td>3.169775</td>\n",
       "    </tr>\n",
       "  </tbody>\n",
       "</table>\n",
       "</div>"
      ],
      "text/plain": [
       "   seconds_in_bucket  sec_bucket_group  bid_ask_spread  mid_price  \\\n",
       "0                  0                 0        0.000214   0.999919   \n",
       "1                 10                 0        0.000214   0.999919   \n",
       "2                 20                 0        0.000107   0.999866   \n",
       "3                 30                 0        0.000107   1.000080   \n",
       "4                 40                 0        0.000214   1.000348   \n",
       "\n",
       "   signed_imbalance  near_price_minus_ref  far_price_minus_ref  matched_size  \\\n",
       "0        3180602.69              0.000077             0.000071   13380276.64   \n",
       "1        1299772.70             -0.000137            -0.000143   15261106.63   \n",
       "2        1299772.70             -0.000030            -0.000036   15261106.63   \n",
       "3        1299772.70             -0.000244            -0.000250   15261106.63   \n",
       "4        1218204.43             -0.000566            -0.000572   15342674.90   \n",
       "\n",
       "   imbalance_size  bid_size  ask_size  reference_price       wap    target  \n",
       "0      3180602.69  60651.50   8493.03         0.999812  1.000000 -3.029704  \n",
       "1      1299772.70  13996.50  23519.16         1.000026  0.999892  0.389814  \n",
       "2      1299772.70   4665.50  12131.60         0.999919  0.999842  4.220009  \n",
       "3      1299772.70  55998.00  46203.30         1.000133  1.000085  5.450249  \n",
       "4      1218204.43  14655.95  26610.45         1.000455  1.000317  3.169775  "
      ]
     },
     "metadata": {},
     "output_type": "display_data"
    },
    {
     "name": "stdout",
     "output_type": "stream",
     "text": [
      "Group by: date_id\n"
     ]
    }
   ],
   "source": [
    "import sys\n",
    "from pathlib import Path\n",
    "import pandas as pd\n",
    "\n",
    "\n",
    "ROOT = Path.cwd().parent if (Path.cwd().name == \"notebooks\") else Path.cwd()\n",
    "if str(ROOT) not in sys.path:\n",
    "    sys.path.insert(0, str(ROOT))   \n",
    "\n",
    "\n",
    "try:\n",
    "    df  \n",
    "    print(\"Using df from memory:\", df.shape)\n",
    "except NameError:\n",
    "    TRAIN_PATH = ROOT / \"data\" / \"train.csv\"\n",
    "    print(\"Reading:\", TRAIN_PATH.resolve())\n",
    "    assert TRAIN_PATH.exists(), \"train.csv not found in data/ folder.\"\n",
    "    df = pd.read_csv(TRAIN_PATH)\n",
    "    print(\"Loaded df:\", df.shape)\n",
    "\n",
    "from src.clean import basic_clean\n",
    "from src.features import build_min_features\n",
    "\n",
    "df_clean = basic_clean(df, impute=\"median\")\n",
    "print(\"After cleaning:\", df_clean.shape)\n",
    "\n",
    "df_feat, FEATURES = build_min_features(df_clean, include_bucket=True)\n",
    "print(\"Num features:\", len(FEATURES))\n",
    "print(\"FEATURES:\", FEATURES)\n",
    "\n",
    "TARGET = \"target\"\n",
    "assert TARGET in df_feat.columns, \"target column not found after cleaning.\"\n",
    "assert len(FEATURES) > 0, \"no FEATURES were selected.\"\n",
    "\n",
    "preview_cols = FEATURES + [TARGET]\n",
    "display(df_feat[preview_cols].head(5))\n",
    "\n",
    "GROUP_COL = \"date_id\" if \"date_id\" in df_feat.columns else None\n",
    "print(\"Group by:\", GROUP_COL or \"(none)\")\n"
   ]
  },
  {
   "cell_type": "code",
   "execution_count": 5,
   "id": "12e552ad",
   "metadata": {},
   "outputs": [
    {
     "name": "stderr",
     "output_type": "stream",
     "text": [
      "/var/folders/xx/w12875ds6blcc9p0ljq82tdw0000gn/T/ipykernel_601/774911821.py:18: FutureWarning: DataFrameGroupBy.apply operated on the grouping columns. This behavior is deprecated, and in a future version of pandas the grouping columns will be excluded from the operation. Either pass `include_groups=False` to exclude the groupings or explicitly select the grouping columns after groupby to silence this warning.\n",
      "  .apply(lambda g: g.sample(min(SAMPLE_PER_DAY, len(g)), random_state=SEED))\n"
     ]
    },
    {
     "name": "stdout",
     "output_type": "stream",
     "text": [
      "Training on rows: 721500 (DEBUG: True )\n",
      "Using model: LightGBM\n",
      "[LightGBM] [Info] Auto-choosing row-wise multi-threading, the overhead of testing was 0.006056 seconds.\n",
      "You can set `force_row_wise=true` to remove the overhead.\n",
      "And if memory is not enough, you can set `force_col_wise=true`.\n",
      "[LightGBM] [Info] Total Bins 2863\n",
      "[LightGBM] [Info] Number of data points in the train set: 480000, number of used features: 13\n",
      "[LightGBM] [Info] Start training from score -0.028767\n"
     ]
    },
    {
     "name": "stderr",
     "output_type": "stream",
     "text": [
      "/Users/krithiktoure/Desktop/DS Project 1/.venv/lib/python3.13/site-packages/sklearn/utils/validation.py:2749: UserWarning: X does not have valid feature names, but LGBMRegressor was fitted with feature names\n",
      "  warnings.warn(\n"
     ]
    },
    {
     "name": "stdout",
     "output_type": "stream",
     "text": [
      "Fold 1 LightGBM MAE: 6.40470\n",
      "[LightGBM] [Info] Auto-choosing row-wise multi-threading, the overhead of testing was 0.003264 seconds.\n",
      "You can set `force_row_wise=true` to remove the overhead.\n",
      "And if memory is not enough, you can set `force_col_wise=true`.\n",
      "[LightGBM] [Info] Total Bins 2863\n",
      "[LightGBM] [Info] Number of data points in the train set: 481500, number of used features: 13\n",
      "[LightGBM] [Info] Start training from score -0.025586\n"
     ]
    },
    {
     "name": "stderr",
     "output_type": "stream",
     "text": [
      "/Users/krithiktoure/Desktop/DS Project 1/.venv/lib/python3.13/site-packages/sklearn/utils/validation.py:2749: UserWarning: X does not have valid feature names, but LGBMRegressor was fitted with feature names\n",
      "  warnings.warn(\n"
     ]
    },
    {
     "name": "stdout",
     "output_type": "stream",
     "text": [
      "Fold 2 LightGBM MAE: 6.30818\n",
      "[LightGBM] [Info] Auto-choosing row-wise multi-threading, the overhead of testing was 0.002668 seconds.\n",
      "You can set `force_row_wise=true` to remove the overhead.\n",
      "And if memory is not enough, you can set `force_col_wise=true`.\n",
      "[LightGBM] [Info] Total Bins 2863\n",
      "[LightGBM] [Info] Number of data points in the train set: 481500, number of used features: 13\n",
      "[LightGBM] [Info] Start training from score -0.044745\n"
     ]
    },
    {
     "name": "stderr",
     "output_type": "stream",
     "text": [
      "/Users/krithiktoure/Desktop/DS Project 1/.venv/lib/python3.13/site-packages/sklearn/utils/validation.py:2749: UserWarning: X does not have valid feature names, but LGBMRegressor was fitted with feature names\n",
      "  warnings.warn(\n"
     ]
    },
    {
     "name": "stdout",
     "output_type": "stream",
     "text": [
      "Fold 3 LightGBM MAE: 6.33331\n",
      "\n",
      "FAST CV MAE: 6.34873 ± 0.04089 (3 folds, DEBUG=True)\n"
     ]
    },
    {
     "data": {
      "image/png": "[encoded data removed]",
      "text/plain": [
       "<Figure size 500x300 with 1 Axes>"
      ]
     },
     "metadata": {},
     "output_type": "display_data"
    },
    {
     "data": {
      "image/png": "[encoded data removed]",
      "text/plain": [
       "<Figure size 600x500 with 1 Axes>"
      ]
     },
     "metadata": {},
     "output_type": "display_data"
    }
   ],
   "source": [
    "import numpy as np\n",
    "import pandas as pd\n",
    "import matplotlib.pyplot as plt\n",
    "from sklearn.model_selection import GroupKFold, KFold\n",
    "from sklearn.metrics import mean_absolute_error\n",
    "\n",
    "\n",
    "DEBUG = True                 \n",
    "SAMPLE_PER_DAY = 1500        \n",
    "N_SPLITS = 3                \n",
    "SEED = 42\n",
    "\n",
    "\n",
    "if DEBUG and \"date_id\" in df_feat.columns:\n",
    "    np.random.seed(SEED)\n",
    "    idx = (\n",
    "        df_feat.groupby(\"date_id\", group_keys=False)\n",
    "               .apply(lambda g: g.sample(min(SAMPLE_PER_DAY, len(g)), random_state=SEED))\n",
    "               .index\n",
    "    )\n",
    "    df_small = df_feat.loc[idx].reset_index(drop=True)\n",
    "else:\n",
    "    df_small = df_feat\n",
    "\n",
    "print(\"Training on rows:\", len(df_small), \"(DEBUG:\", DEBUG, \")\")\n",
    "\n",
    "# --- 3) choose a fast model (LightGBM if available; else HistGBR; else RF) ---\n",
    "MODEL_NAME = None\n",
    "try:\n",
    "    import lightgbm as lgb\n",
    "    from lightgbm import LGBMRegressor\n",
    "    def make_model():\n",
    "        return LGBMRegressor(\n",
    "            n_estimators=1500,        # we'll stop early, so OK if big\n",
    "            learning_rate=0.07,\n",
    "            subsample=0.8,\n",
    "            colsample_bytree=0.8,\n",
    "            random_state=SEED\n",
    "        )\n",
    "    MODEL_NAME = \"LightGBM\"\n",
    "except Exception:\n",
    "    try:\n",
    "        from sklearn.ensemble import HistGradientBoostingRegressor\n",
    "        def make_model():\n",
    "            # fast, built-in gradient boosting with early stopping\n",
    "            return HistGradientBoostingRegressor(\n",
    "                learning_rate=0.1,\n",
    "                max_depth=None,\n",
    "                max_iter=500,\n",
    "                early_stopping=True,\n",
    "                random_state=SEED\n",
    "            )\n",
    "        MODEL_NAME = \"HistGBR\"\n",
    "    except Exception:\n",
    "        from sklearn.ensemble import RandomForestRegressor\n",
    "        def make_model():\n",
    "            return RandomForestRegressor(\n",
    "                n_estimators=120,      # smaller to keep it quick\n",
    "                n_jobs=-1,\n",
    "                random_state=SEED\n",
    "            )\n",
    "        MODEL_NAME = \"RandomForest\"\n",
    "\n",
    "print(\"Using model:\", MODEL_NAME)\n",
    "\n",
    "# --- 4) set up data arrays ---\n",
    "X = df_small[FEATURES].values\n",
    "y = df_small[TARGET].values\n",
    "groups = df_small[\"date_id\"].values if \"date_id\" in df_small.columns else None\n",
    "\n",
    "cv = GroupKFold(n_splits=N_SPLITS) if groups is not None else KFold(n_splits=N_SPLITS, shuffle=True, random_state=SEED)\n",
    "\n",
    "fold_mae = []\n",
    "models = []\n",
    "\n",
    "# --- 5) cross-validation loop (with early stopping when possible) ---\n",
    "for fold, (tr_idx, va_idx) in enumerate(cv.split(X, y, groups), 1):\n",
    "    X_tr, y_tr = X[tr_idx], y[tr_idx]\n",
    "    X_va, y_va = X[va_idx], y[va_idx]\n",
    "\n",
    "    model = make_model()\n",
    "\n",
    "    if MODEL_NAME == \"LightGBM\":\n",
    "        # use LightGBM's built-in early stopping\n",
    "        model.fit(\n",
    "            X_tr, y_tr,\n",
    "            eval_set=[(X_va, y_va)],\n",
    "            eval_metric=\"mae\",\n",
    "            callbacks=[lgb.early_stopping(stopping_rounds=80, verbose=False)]\n",
    "        )\n",
    "    else:\n",
    "        # other models don't support eval_set the same way; just fit\n",
    "        model.fit(X_tr, y_tr)\n",
    "\n",
    "    pred = model.predict(X_va)\n",
    "    mae = mean_absolute_error(y_va, pred)\n",
    "    fold_mae.append(mae)\n",
    "    models.append(model)\n",
    "    print(f\"Fold {fold} {MODEL_NAME} MAE: {mae:.5f}\")\n",
    "\n",
    "cv_mean, cv_std = float(np.mean(fold_mae)), float(np.std(fold_mae))\n",
    "print(f\"\\nFAST CV MAE: {cv_mean:.5f} ± {cv_std:.5f} ({N_SPLITS} folds, DEBUG={DEBUG})\")\n",
    "\n",
    "# --- 6) quick bars for fold MAE ---\n",
    "plt.figure(figsize=(5,3))\n",
    "plt.bar(range(1, N_SPLITS+1), fold_mae)\n",
    "plt.xlabel(\"Fold\"); plt.ylabel(\"MAE\"); plt.title(\"MAE by fold (FAST)\")\n",
    "plt.show()\n",
    "\n",
    "# --- 7) feature importances if present ---\n",
    "if hasattr(models[0], \"feature_importances_\"):\n",
    "    importances = models[0].feature_importances_\n",
    "    order = np.argsort(importances)[::-1][:20]\n",
    "    plt.figure(figsize=(6,5))\n",
    "    plt.barh([FEATURES[i] for i in order][::-1], importances[order][::-1])\n",
    "    plt.title(f\"Top feature importances ({MODEL_NAME})\")\n",
    "    plt.xlabel(\"importance\")\n",
    "    plt.tight_layout()\n",
    "    plt.show()\n",
    "else:\n",
    "    print(\"Model does not expose feature importances (that’s OK).\")\n"
   ]
  },
  {
   "cell_type": "code",
   "execution_count": 6,
   "id": "7c34f3cd",
   "metadata": {},
   "outputs": [
    {
     "name": "stdout",
     "output_type": "stream",
     "text": [
      "Saved model   -> lightgbm_best_fold2.pkl\n",
      "Saved features-> features.json\n",
      "Saved report  -> cv_meta.json\n",
      "Tiny preds    -> [-0.72173744  0.13682579  0.41063678]\n"
     ]
    },
    {
     "name": "stderr",
     "output_type": "stream",
     "text": [
      "/Users/krithiktoure/Desktop/DS Project 1/.venv/lib/python3.13/site-packages/sklearn/utils/validation.py:2749: UserWarning: X does not have valid feature names, but LGBMRegressor was fitted with feature names\n",
      "  warnings.warn(\n"
     ]
    }
   ],
   "source": [
    "from pathlib import Path         \n",
    "import json                      \n",
    "import numpy as np               \n",
    "import joblib                    \n",
    "\n",
    "# 1) make sure the artifacts/ folder exists\n",
    "ARTIFACTS = ROOT / \"artifacts\"\n",
    "ARTIFACTS.mkdir(exist_ok=True)\n",
    "\n",
    "\n",
    "best_idx = int(np.argmin(fold_mae))   \n",
    "best_model = models[best_idx]         \n",
    "\n",
    "# 3) choose where to save the model file (example: artifacts/lightgbm_best_fold3.pkl)\n",
    "model_path = ARTIFACTS / f\"{MODEL_NAME.lower()}_best_fold{best_idx+1}.pkl\"\n",
    "joblib.dump(best_model, model_path)   # write the model to disk\n",
    "\n",
    "# 4) save the FEATURES list we trained on (so we know the exact columns later)\n",
    "features_path = ARTIFACTS / \"features.json\"\n",
    "with open(features_path, \"w\") as f:\n",
    "    json.dump(FEATURES, f)            # write as JSON text\n",
    "\n",
    "# 5) save a tiny CV report (so we remember scores/settings)\n",
    "meta = {\n",
    "    \"model\": MODEL_NAME,\n",
    "    \"best_fold\": best_idx + 1,        # human-friendly 1..K\n",
    "    \"fold_mae\": [float(x) for x in fold_mae],\n",
    "    \"cv_mae_mean\": float(cv_mean),\n",
    "    \"cv_mae_std\": float(cv_std),\n",
    "    \"n_features\": int(len(FEATURES))\n",
    "}\n",
    "meta_path = ARTIFACTS / \"cv_meta.json\"\n",
    "with open(meta_path, \"w\") as f:\n",
    "    json.dump(meta, f, indent=2)\n",
    "\n",
    "# 6) quick sanity: load the model back and make 3 tiny predictions\n",
    "loaded_model = joblib.load(model_path)\n",
    "tiny_pred = loaded_model.predict(df_feat[FEATURES].values[:3])\n",
    "\n",
    "print(\"Saved model   ->\", model_path.name)\n",
    "print(\"Saved features->\", features_path.name)\n",
    "print(\"Saved report  ->\", meta_path.name)\n",
    "print(\"Tiny preds    ->\", tiny_pred[:3])\n"
   ]
  },
  {
   "cell_type": "code",
   "execution_count": 7,
   "id": "777e0376",
   "metadata": {},
   "outputs": [
    {
     "name": "stdout",
     "output_type": "stream",
     "text": [
      "Analyzing rows: 721500\n"
     ]
    },
    {
     "name": "stderr",
     "output_type": "stream",
     "text": [
      "/Users/krithiktoure/Desktop/DS Project 1/.venv/lib/python3.13/site-packages/sklearn/utils/validation.py:2749: UserWarning: X does not have valid feature names, but LGBMRegressor was fitted with feature names\n",
      "  warnings.warn(\n",
      "/Users/krithiktoure/Desktop/DS Project 1/.venv/lib/python3.13/site-packages/sklearn/utils/validation.py:2749: UserWarning: X does not have valid feature names, but LGBMRegressor was fitted with feature names\n",
      "  warnings.warn(\n",
      "/Users/krithiktoure/Desktop/DS Project 1/.venv/lib/python3.13/site-packages/sklearn/utils/validation.py:2749: UserWarning: X does not have valid feature names, but LGBMRegressor was fitted with feature names\n",
      "  warnings.warn(\n"
     ]
    },
    {
     "name": "stdout",
     "output_type": "stream",
     "text": [
      "OOF MAE: 6.34885 (should be ~ CV mean 6.34873)\n",
      "Worst 5 days by MAE:\n"
     ]
    },
    {
     "name": "stderr",
     "output_type": "stream",
     "text": [
      "/var/folders/xx/w12875ds6blcc9p0ljq82tdw0000gn/T/ipykernel_601/1029771862.py:40: FutureWarning: DataFrameGroupBy.apply operated on the grouping columns. This behavior is deprecated, and in a future version of pandas the grouping columns will be excluded from the operation. Either pass `include_groups=False` to exclude the groupings or explicitly select the grouping columns after groupby to silence this warning.\n",
      "  .apply(lambda g: mean_absolute_error(g[TARGET], g[\"oof_pred\"]))\n"
     ]
    },
    {
     "data": {
      "text/plain": [
       "date_id\n",
       "96     13.481967\n",
       "122    12.561627\n",
       "119    11.220523\n",
       "83     11.139949\n",
       "346    10.528481\n",
       "Name: mae, dtype: float64"
      ]
     },
     "metadata": {},
     "output_type": "display_data"
    },
    {
     "data": {
      "image/png": "[encoded data removed]",
      "text/plain": [
       "<Figure size 700x400 with 1 Axes>"
      ]
     },
     "metadata": {},
     "output_type": "display_data"
    },
    {
     "name": "stdout",
     "output_type": "stream",
     "text": [
      "Worst 10 stocks by MAE:\n"
     ]
    },
    {
     "name": "stderr",
     "output_type": "stream",
     "text": [
      "/var/folders/xx/w12875ds6blcc9p0ljq82tdw0000gn/T/ipykernel_601/1029771862.py:62: FutureWarning: DataFrameGroupBy.apply operated on the grouping columns. This behavior is deprecated, and in a future version of pandas the grouping columns will be excluded from the operation. Either pass `include_groups=False` to exclude the groupings or explicitly select the grouping columns after groupby to silence this warning.\n",
      "  .apply(lambda g: mean_absolute_error(g[TARGET], g[\"oof_pred\"]))\n"
     ]
    },
    {
     "data": {
      "text/plain": [
       "stock_id\n",
       "82     14.346972\n",
       "86     13.137071\n",
       "31     12.509807\n",
       "174    12.474872\n",
       "92     12.086352\n",
       "100    12.028200\n",
       "129    11.971530\n",
       "158    11.515826\n",
       "70     10.937603\n",
       "85     10.819191\n",
       "Name: mae, dtype: float64"
      ]
     },
     "metadata": {},
     "output_type": "display_data"
    },
    {
     "data": {
      "image/png": "[encoded data removed]",
      "text/plain": [
       "<Figure size 700x400 with 1 Axes>"
      ]
     },
     "metadata": {},
     "output_type": "display_data"
    }
   ],
   "source": [
    "import numpy as np\n",
    "import pandas as pd\n",
    "import matplotlib.pyplot as plt\n",
    "from sklearn.model_selection import GroupKFold, KFold\n",
    "from sklearn.metrics import mean_absolute_error\n",
    "\n",
    "\n",
    "df_used = df_small if 'df_small' in globals() else df_feat\n",
    "print(\"Analyzing rows:\", len(df_used))\n",
    "\n",
    "\n",
    "X = df_used[FEATURES].values\n",
    "y = df_used[TARGET].values\n",
    "groups_used = df_used[\"date_id\"].values if \"date_id\" in df_used.columns else None\n",
    "n_folds = len(models)                     \n",
    "\n",
    "\n",
    "cv = GroupKFold(n_splits=n_folds) if groups_used is not None else KFold(n_splits=n_folds, shuffle=True, random_state=SEED)\n",
    "\n",
    "\n",
    "oof_pred = np.full(shape=len(df_used), fill_value=np.nan, dtype=float)\n",
    "\n",
    "\n",
    "for i, (tr_idx, va_idx) in enumerate(cv.split(X, y, groups_used)):\n",
    "    fold_model = models[i]               \n",
    "    oof_pred[va_idx] = fold_model.predict(X[va_idx])\n",
    "\n",
    "\n",
    "oof_mae = mean_absolute_error(y[~np.isnan(oof_pred)], oof_pred[~np.isnan(oof_pred)])\n",
    "print(f\"OOF MAE: {oof_mae:.5f} (should be ~ CV mean {cv_mean:.5f})\")\n",
    "\n",
    "\n",
    "df_eval = df_used.copy()\n",
    "df_eval[\"oof_pred\"] = oof_pred\n",
    "\n",
    "if \"date_id\" in df_eval.columns:\n",
    "    by_day = (\n",
    "        df_eval.dropna(subset=[\"oof_pred\"])\n",
    "               .groupby(\"date_id\", observed=True)\n",
    "               .apply(lambda g: mean_absolute_error(g[TARGET], g[\"oof_pred\"]))\n",
    "               .rename(\"mae\")\n",
    "               .sort_values(ascending=False)\n",
    "    )\n",
    "    print(\"Worst 5 days by MAE:\")\n",
    "    display(by_day.head(5))\n",
    "\n",
    "    # plot top 20 worst days\n",
    "    plt.figure(figsize=(7,4))\n",
    "    worst_days = by_day.head(20)\n",
    "    plt.bar(worst_days.index.astype(str), worst_days.values)\n",
    "    plt.xticks(rotation=45, ha=\"right\")\n",
    "    plt.ylabel(\"MAE\")\n",
    "    plt.title(\"MAE by date_id (Top 20 worst)\")\n",
    "    plt.tight_layout()\n",
    "    plt.show()\n",
    "\n",
    "\n",
    "if \"stock_id\" in df_eval.columns:\n",
    "    by_stock = (\n",
    "        df_eval.dropna(subset=[\"oof_pred\"])\n",
    "               .groupby(\"stock_id\", observed=True)\n",
    "               .apply(lambda g: mean_absolute_error(g[TARGET], g[\"oof_pred\"]))\n",
    "               .rename(\"mae\")\n",
    "               .sort_values(ascending=False)\n",
    "    )\n",
    "    print(\"Worst 10 stocks by MAE:\")\n",
    "    display(by_stock.head(10))\n",
    "\n",
    "  \n",
    "    plt.figure(figsize=(7,4))\n",
    "    worst_stocks = by_stock.head(20)\n",
    "    plt.bar(worst_stocks.index.astype(str), worst_stocks.values)\n",
    "    plt.xticks(rotation=45, ha=\"right\")\n",
    "    plt.ylabel(\"MAE\")\n",
    "    plt.title(\"MAE by stock_id (Top 20 worst)\")\n",
    "    plt.tight_layout()\n",
    "    plt.show()\n"
   ]
  }
 ],
 "metadata": {
  "kernelspec": {
   "display_name": ".venv",
   "language": "python",
   "name": "python3"
  },
  "language_info": {
   "codemirror_mode": {
    "name": "ipython",
    "version": 3
   },
   "file_extension": ".py",
   "mimetype": "text/x-python",
   "name": "python",
   "nbconvert_exporter": "python",
   "pygments_lexer": "ipython3",
   "version": "3.13.1"
  }
 },
 "nbformat": 4,
 "nbformat_minor": 5
}
